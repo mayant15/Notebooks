{
 "cells": [
  {
   "cell_type": "markdown",
   "metadata": {},
   "source": [
    "# Group Actions and Orbit Spaces\n",
    "\n",
    "The notion of equivalence classes is fundamental. In topology too. Construction and implications in this article."
   ]
  },
  {
   "cell_type": "markdown",
   "metadata": {},
   "source": [
    "## Definitions\n",
    "\n",
    "What we saw above is true for all partitions, but in this section we examine only particular kinds of partitions. When an underlying set of a topological space is endowed with an operator such that it satisfies the group axioms, we end up with a structure that is called a ***topological group***. The remarkable thing about these groups is that we can now apply all group theoretic properties to our topological contexts."
   ]
  },
  {
   "cell_type": "markdown",
   "metadata": {},
   "source": [
    "A ***group action*** of a group $G$ on a space $X$ is a function $\\phi: G \\times X \\to X$ which satisfies the following properties:\n",
    "1. **Identity:** For all $x \\in X$, $\\phi(e, x) = x$ where $e \\in G$ is the identity element for the group\n",
    "1. **Compatibility:** For any $g, h \\in G$, $\\phi(gh, x) = \\phi \\left( g, \\phi(h, x) \\right)$\n",
    "\n",
    "In other words, for a fixed $g \\in G$, we get a bijective map on $X$. These actions can be used to partition the space $X$. We define an ***orbit*** of an element $x \\in X$ to be the set\n",
    "$$\n",
    "O_x = \\{ g \\circ x \\vert g \\in G \\}\n",
    "$$\n",
    "Here I have used $g \\circ x$ as a shorthand for $\\phi(g, x)$. A better way understand orbits would be to state that $y \\in O_x$ implies that there exists some $g \\in G$ which results in a bijection that takes $x$ to $y$. It can easily be verified that these orbits indeed create a partition of $X$. The underlying equivalence relation that we're using is that $x \\sim y$ if $y \\in O_x$."
   ]
  },
  {
   "cell_type": "markdown",
   "metadata": {},
   "source": [
    "With this slight detour, we now have a mechanism to create very interesting partitions. Note that the example in the previous section can be thought of as a group action of $(\\b{Z}, +)$ on $\\b{R}$ defined by $\\phi(z, x) = z + x$. In the next section we will use this new tool to construct even more interesting spaces."
   ]
  },
  {
   "cell_type": "markdown",
   "metadata": {},
   "source": [
    "## Group actions on a torus\n",
    "\n",
    "\n",
    "Example of a square: Identify opposite edges, all corners, everything inside to create a torus."
   ]
  },
  {
   "cell_type": "code",
   "execution_count": null,
   "metadata": {},
   "outputs": [],
   "source": []
  }
 ],
 "metadata": {
  "kernelspec": {
   "display_name": "Python 3",
   "language": "python",
   "name": "python3"
  },
  "language_info": {
   "codemirror_mode": {
    "name": "ipython",
    "version": 3
   },
   "file_extension": ".py",
   "mimetype": "text/x-python",
   "name": "python",
   "nbconvert_exporter": "python",
   "pygments_lexer": "ipython3",
   "version": "3.8.1"
  }
 },
 "nbformat": 4,
 "nbformat_minor": 2
}
